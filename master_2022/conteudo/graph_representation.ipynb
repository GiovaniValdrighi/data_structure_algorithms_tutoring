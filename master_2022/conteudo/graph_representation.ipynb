{
  "nbformat": 4,
  "nbformat_minor": 0,
  "metadata": {
    "colab": {
      "name": "Untitled15.ipynb",
      "provenance": [],
      "collapsed_sections": [
        "-YjBPqxXAxzT"
      ]
    },
    "kernelspec": {
      "name": "python3",
      "display_name": "Python 3"
    },
    "language_info": {
      "name": "python"
    }
  },
  "cells": [
    {
      "cell_type": "code",
      "source": [
        "import numpy as np\n",
        "np.random.seed(0)"
      ],
      "metadata": {
        "id": "Ay7P7Dmp-WLA"
      },
      "execution_count": null,
      "outputs": []
    },
    {
      "cell_type": "markdown",
      "source": [
        "Primeiro vamos criar uma classe que vai representar uma aresta direcional. Essa classe não é necessária para implementar um grafo (poderíamos simplesmente usar tuplas com os índices dos nós), no entanto facilita a leitura do código.\n",
        "\n",
        "Ela vai armezar apenas os dois nós e o peso. Ela pode ser considerada uma aresta não-direcional também, a única diferença é que estamos dando nomes diferentes para os dois nós."
      ],
      "metadata": {
        "id": "A8gkXdnD7P-y"
      }
    },
    {
      "cell_type": "code",
      "source": [
        "class Edge:\n",
        "    \"\"\"Uma aresta direcional com nós de \"saída\", \"chegada\" e peso.\"\"\"\n",
        "    def __init__(self, u, v, w = 1):\n",
        "        self.src = u\n",
        "        self.dest = v\n",
        "        self.w = w\n",
        "\n",
        "    def __str__(self):\n",
        "        return f\"{self.src} -> {self.dest}\""
      ],
      "metadata": {
        "id": "pfrciik53WFp"
      },
      "execution_count": null,
      "outputs": []
    },
    {
      "cell_type": "markdown",
      "source": [
        "Caso seja necessário, também seria possível criar uma classe para os nós, para salvar determinados atributos.\n",
        "\n"
      ],
      "metadata": {
        "id": "G5LxMZYH8IpD"
      }
    },
    {
      "cell_type": "code",
      "source": [
        "n_nodes = 6\n",
        "n_edges = 12\n",
        "\n",
        "selected_edges = []\n",
        "\n",
        "for _ in range(n_edges):\n",
        "    u = int(np.random.randint(n_nodes))\n",
        "    v = int(np.random.randint(n_nodes))\n",
        "\n",
        "    while u == v or ((u, v) in selected_edges) or ((v, u) in selected_edges):\n",
        "        u = int(np.random.randint(n_nodes))\n",
        "        v = int(np.random.randint(n_nodes))\n",
        "    \n",
        "    selected_edges.append((u, v))\n"
      ],
      "metadata": {
        "id": "gKZB9V0bIYBF"
      },
      "execution_count": null,
      "outputs": []
    },
    {
      "cell_type": "markdown",
      "source": [
        "## Adjacency Matrix"
      ],
      "metadata": {
        "id": "u2uHnhcYEy-e"
      }
    },
    {
      "cell_type": "markdown",
      "source": [
        "\n",
        "\n",
        "É o método de representação de grafos mais comum quando tratamos da representação matemática deles (facilita a nomenclatura, fórmulas).\n",
        "\n",
        "Um grafo de $n$ nós é criado através de uma matriz $A$ de tamanho $n \\times n$. $A[i, j]$ registra o peso da aresta presente entre os vértices $i$, $j$, e pode ser $0$ caso não exista a origem.\n",
        "\n",
        "**Adicionar novo nó**: É necessário criar uma nova matriz aumentando o tamanho do matriz.\n",
        "\n",
        "**Adicionar nova aresta**: Basta atualizar o valor da posição dessa aresta.\n",
        "\n",
        "**Remover nó:**: É necessário criar uma nova matriz diminuindo o tamanho da matriz. Uma maneira também é só zerar a coluna e a linha desse nó.\n",
        "\n",
        "**Remover aresta:** Basta atualizar o valor da posição dessa aresta."
      ],
      "metadata": {
        "id": "-YjBPqxXAxzT"
      }
    },
    {
      "cell_type": "code",
      "source": [
        "class AdjacencyMatrix:\n",
        "    def __init__(self, n):\n",
        "        self.n = n\n",
        "        self.adj = [[None]*n for _ in range(n)]\n",
        "\n",
        "    def __str__(self):\n",
        "        s = \"\"\n",
        "        for u in range(self.n):\n",
        "            for v in range(self.n):\n",
        "                if self.adj[u][v]:\n",
        "                    s += f\"{u} -> {v}, \"\n",
        "        return s[:-1]\n",
        "\n",
        "    def new_edge(self, u, v, w = 1):\n",
        "        edge = Edge(u, v, w)\n",
        "        self.adj[u][v] = edge\n",
        "\n",
        "    def get_edge(self, u, v):\n",
        "        if not self.adj[u][v] is None:\n",
        "            return self.adj[u][v]\n",
        "        \n",
        "        raise ValueError(\"Edge not in graph\")\n",
        "\n",
        "    def remove_edge(self, u, v):\n",
        "        if self.adj[u][v]:\n",
        "            self.adj[u][v] = None\n",
        "        \n",
        "        raise ValueError(\"Edge not in graph\")\n",
        "    \n",
        "    def get_neighbors(self, u):\n",
        "        neighbors = []\n",
        "        for v in range(self.n):\n",
        "            if self.adj[u][v]:\n",
        "                neighbors.append(v)\n",
        "            elif self.adj[v][u]:\n",
        "                neighbors.append(v)\n",
        "        \n",
        "        return neighbors"
      ],
      "metadata": {
        "id": "io_GXQ6JAzJ9"
      },
      "execution_count": null,
      "outputs": []
    },
    {
      "cell_type": "code",
      "source": [
        "G = AdjacencyMatrix(n_nodes)\n",
        "\n",
        "for (u, v) in selected_edges:\n",
        "    G.new_edge(u, v)\n",
        "\n",
        "e = G.get_edge(2, 3)\n",
        "N = G.get_neighbors(2)\n",
        "print(\"Vizinhos do 2:\", N)\n",
        "print(G)"
      ],
      "metadata": {
        "colab": {
          "base_uri": "https://localhost:8080/"
        },
        "id": "tmGeYE8MC4PV",
        "outputId": "c5d7c099-ba5d-4e78-beb1-cd674005b81b"
      },
      "execution_count": null,
      "outputs": [
        {
          "output_type": "stream",
          "name": "stdout",
          "text": [
            "Vizinhos do 2: [0, 1, 3]\n",
            "0 -> 2, 0 -> 3, 0 -> 4, 1 -> 0, 2 -> 1, 2 -> 3, 3 -> 4, 4 -> 1, 4 -> 5, 5 -> 0, 5 -> 1, 5 -> 3,\n"
          ]
        }
      ]
    },
    {
      "cell_type": "markdown",
      "source": [
        "👍 A vantagem da AdjacencyMatrix é que atualizar arestas é muito rápido.\n",
        "\n",
        "👎 A desvantagem é que adicionar/remover nós pode ser custoso, e que nós armazenamos bastante memória quando o grafo é esparso (poucas arestas entre as possíveis existem)."
      ],
      "metadata": {
        "id": "HzHzuTYyDgsw"
      }
    },
    {
      "cell_type": "markdown",
      "source": [
        "## EdgeList"
      ],
      "metadata": {
        "id": "TxrFUAFXE1yN"
      }
    },
    {
      "cell_type": "markdown",
      "source": [
        "A EdgeList como o próprio nome já diz é uma estrutura que armazena as arestas como uma lista. Quando um grafo é esparso (com poucas arestas), ela ocupa menos espaço para armazenar todas as arestas.\n",
        "\n",
        "**Adicionar novo nó**: Ela não armazena os nós, só se eles tiverem participando de alguma aresta. \n",
        "\n",
        "**Adicionar nova aresta**: Basta adicionar um novo elemento na lista de arestas.\n",
        "\n",
        "**Remover nó:**: É necessário percorrer todas as arestas e verificar se o nó está presente.\n",
        "\n",
        "**Remover aresta:** É *necessário* percorrer todas as arestas e verificar se essa é a aresta que será removida."
      ],
      "metadata": {
        "id": "HEEhiIov9GIZ"
      }
    },
    {
      "cell_type": "code",
      "execution_count": null,
      "metadata": {
        "id": "3pBgh8sR1pFs"
      },
      "outputs": [],
      "source": [
        "class EdgeList:\n",
        "    \"\"\"Grafo construido através de uma EdgeList. Como o próprio nome já diz, é uma lista\n",
        "    que armazena cada uma das arestas.\"\"\"\n",
        "    def __init__(self):\n",
        "        self.edges = []\n",
        "    \n",
        "    def __str__(self):\n",
        "        return \", \".join([f\"{edge.src} -> {edge.dest}\" for edge in self.edges])\n",
        "\n",
        "    def new_edge(self, u, v, w = 1):\n",
        "        edge = Edge(u, v, w)\n",
        "        self.edges.append(edge)\n",
        "\n",
        "    def get_edge(self, u, v):\n",
        "        for edge in self.edges:\n",
        "            if (u == edge.src and v == edge.dest):\n",
        "                return edge\n",
        "        \n",
        "        raise ValueError(\"Edge not in graph\")\n",
        "\n",
        "    def remove_edge(self, u, v):\n",
        "        for edge in self.edges:\n",
        "            if (u == edge.src and v == edge.dest):\n",
        "                self.edges.remove(edge)\n",
        "                return edge\n",
        "        \n",
        "        raise ValueError(\"Edge not in graph\")\n",
        "    \n",
        "    def get_neighbors(self, u):\n",
        "        neighbors = []\n",
        "        for edge in self.edges:\n",
        "            if u == edge.src:\n",
        "                neighbors.append(edge.dest)\n",
        "            elif u == edge.dest:\n",
        "                neighbors.append(edge.src)\n",
        "        \n",
        "        return neighbors\n"
      ]
    },
    {
      "cell_type": "code",
      "source": [
        "G = EdgeList()\n",
        "\n",
        "for (u, v) in selected_edges:\n",
        "    G.new_edge(u, v)\n",
        "\n",
        "e = G.get_edge(2, 3)\n",
        "N = G.get_neighbors(2)\n",
        "print(\"Vizinhos do 2:\", N)\n",
        "print(G)"
      ],
      "metadata": {
        "colab": {
          "base_uri": "https://localhost:8080/"
        },
        "id": "Z0ugAXF_3pYG",
        "outputId": "d166ce7a-9b69-45e7-ed1b-f262a92206b1"
      },
      "execution_count": null,
      "outputs": [
        {
          "output_type": "stream",
          "name": "stdout",
          "text": [
            "Vizinhos do 2: [0, 3, 1]\n",
            "5 -> 0, 5 -> 1, 0 -> 2, 2 -> 3, 2 -> 1, 4 -> 1, 0 -> 3, 0 -> 4, 3 -> 4, 5 -> 3, 4 -> 5, 1 -> 0\n"
          ]
        }
      ]
    },
    {
      "cell_type": "markdown",
      "source": [
        "👍 A vantagem da EdgeList é que adicionar novas arestas é muito rápido, e que usa menos memória.\n",
        "\n",
        "👎 A desvantagem é que encontrar uma aresta e remover arestas/nós são tarefas  demoradas."
      ],
      "metadata": {
        "id": "803UQ9w5_zcA"
      }
    },
    {
      "cell_type": "markdown",
      "source": [
        "## AdjacencyList"
      ],
      "metadata": {
        "id": "sOlO93yAE8Dx"
      }
    },
    {
      "cell_type": "markdown",
      "source": [
        "\n",
        "É uma terceira versão em que para cada nós salvamos uma lista das arestas que ele possui. Seja $A$ essa lista maior, a posição $A[i]$ salva as arestas do nó $i$ (apenas as que existem).\n",
        "\n",
        "**Adicionar novo nó**: É necessário adicionar um novo elemento na lista de vértices.\n",
        "\n",
        "**Adicionar nova aresta**: Adicionamos uma nova aresta na lista de arestas do nó.\n",
        "\n",
        "**Remover nó:** Removemos uma aresta da lista de arestas do nó.\n",
        "\n",
        "**Remover aresta:** Removemos uma aresta da lista de arestas de um nó."
      ],
      "metadata": {
        "id": "KK29lNtbGBvZ"
      }
    },
    {
      "cell_type": "code",
      "source": [
        "class AdjacencyList:\n",
        "    def __init__(self, n):\n",
        "        self.n = n\n",
        "        self.vertex = [[] for _ in range(n)]\n",
        "\n",
        "    def __str__(self):\n",
        "        s = \"\"\n",
        "        for v in range(self.n):\n",
        "            for edge in self.vertex[v]:\n",
        "                s += f\" {edge.src} -> {edge.dest},\"\n",
        "        return s[:-1]\n",
        "\n",
        "    def new_edge(self, u, v, w = 1):\n",
        "        edge = Edge(u, v, w)\n",
        "        self.vertex[u].append(edge)\n",
        "\n",
        "    def get_edge(self, u, v):\n",
        "        for edge in self.vertex[u]:\n",
        "            if edge.dest == v:\n",
        "                return edge\n",
        "        \n",
        "        raise ValueError(\"Edge not in graph\")\n",
        "\n",
        "    def remove_edge(self, u, v):\n",
        "        for edge in self.vertex[u]:\n",
        "            if edge.dest == v:\n",
        "                self.vertex[u].remove(edge)\n",
        "                return\n",
        "        \n",
        "        raise ValueError(\"Edge not in graph\")\n",
        "    \n",
        "    def get_neighbors(self, u):\n",
        "        neighbors = []\n",
        "        for edge in self.vertex[u]:\n",
        "            neighbors.append(edge.dest)\n",
        "        \n",
        "        #for v in range(self.n):\n",
        "        #    for edge in self.vertex[v]:\n",
        "        #        if edge.dest == u:\n",
        "        #            neighbors.append(edge.src)\n",
        "        return neighbors"
      ],
      "metadata": {
        "id": "0MH_I9UE1_ZG"
      },
      "execution_count": null,
      "outputs": []
    },
    {
      "cell_type": "code",
      "source": [
        "G = AdjacencyList(n_nodes)\n",
        "\n",
        "for (u, v) in selected_edges:\n",
        "    G.new_edge(u, v)\n",
        "\n",
        "e = G.get_edge(2, 3)\n",
        "N = G.get_neighbors(2)\n",
        "print(\"Vizinhos do 2:\", N)\n",
        "print(G)"
      ],
      "metadata": {
        "colab": {
          "base_uri": "https://localhost:8080/"
        },
        "id": "zU95sfeU2DOx",
        "outputId": "f4b8f4fc-cc0c-4fce-84f4-beb52cf57d5a"
      },
      "execution_count": null,
      "outputs": [
        {
          "output_type": "stream",
          "name": "stdout",
          "text": [
            "Vizinhos do 2: [3, 1]\n",
            " 0 -> 2, 0 -> 3, 0 -> 4, 1 -> 0, 2 -> 3, 2 -> 1, 3 -> 4, 4 -> 1, 4 -> 5, 5 -> 0, 5 -> 1, 5 -> 3\n"
          ]
        }
      ]
    },
    {
      "cell_type": "markdown",
      "source": [
        "👍 A vantagem da AdjacencyList é que adicionar/remover arestas é eficiente, adicionar nós também é eficiente.\n",
        "\n",
        "👎 A desvantagem é quando o número de arestas para um nó em específico é muito grande, as operações se tornam mais lentas, e remover nós é custoso.\n"
      ],
      "metadata": {
        "id": "AyXxVe9WFE-G"
      }
    },
    {
      "cell_type": "markdown",
      "source": [
        "## Representação dos nós"
      ],
      "metadata": {
        "id": "0kcjUpKfJzEr"
      }
    },
    {
      "cell_type": "markdown",
      "source": [
        "Todas as implementações acima utilizaram os vértices como inteiros $\\{1, \\dots, n \\}$. No entanto, geralmente identificamos os nós com outros \"nomes\". Uma maneira de lidar com isso é utilizar dicionários que mapeiam do nome para o índice."
      ],
      "metadata": {
        "id": "DiLmKrStJ0ql"
      }
    },
    {
      "cell_type": "code",
      "source": [
        "class AdjacencyMatrix:\n",
        "    def __init__(self, vertex_names, n):\n",
        "        self.vertex = dict([(name, i) for (i, name) in enumerate(vertex_names)])\n",
        "        self.n = n\n",
        "        self.adj = [[None]*n for _ in range(n)]\n",
        "\n",
        "    def __str__(self):\n",
        "        s = \"\"\n",
        "        for u in range(self.n):\n",
        "            for v in range(self.n):\n",
        "                if self.adj[u][v]:\n",
        "                    s += f\"{u} -> {v}, \"\n",
        "        return s[:-1]\n",
        "\n",
        "    def new_edge(self, u_name, v_name, w = 1):\n",
        "        u = self.vertex[u_name]\n",
        "        v = self.vertex[v_name]\n",
        "        edge = Edge(u, v, w)\n",
        "        self.adj[u][v] = edge\n",
        "\n",
        "    def get_edge(self, u_name, v_name):\n",
        "        u = self.vertex[u_name]\n",
        "        v = self.vertex[v_name]\n",
        "        if self.adj[u][v]:\n",
        "            return self.adj[u][v]\n",
        "        \n",
        "        raise ValueError(\"Edge not in graph\")\n",
        "\n",
        "    def remove_edge(self, u_name, v_name):\n",
        "        u = self.vertex[u_name]\n",
        "        v = self.vertex[v_name]\n",
        "        if self.adj[u][v]:\n",
        "            self.adj[u][v] = None\n",
        "        \n",
        "        raise ValueError(\"Edge not in graph\")"
      ],
      "metadata": {
        "id": "vParjyzcJz-P"
      },
      "execution_count": null,
      "outputs": []
    }
  ]
}