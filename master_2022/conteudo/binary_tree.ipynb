{
 "cells": [
  {
   "cell_type": "markdown",
   "metadata": {},
   "source": [
    "Existem diferentes maneiras de estrutura uma árvore binária em Python. No entanto, algo comum na implementação de estrutura de dados, incluindo árvores, é a utilização de \"nós\" que armazenam a informação e referências para outros nós da mesma estrutura.\n",
    "\n",
    "Por exemplo em uma lista encadeada, cada nó (`node`) possui uma referência para o nó que vem logo a seguir na lista encadeada.\n",
    "\n",
    "Em uma árvore binária, também é comum a implementação utilizar de `node`, e cada um possui referência para possíveis dois filhos, o `left` e o `right`. \n",
    "\n",
    "Vamos primeiro construir uma versão da árvore utilizando de uma classe `Node` que armazena a informação e uma classe `BinaryTree` que organiza a estrutura."
   ]
  },
  {
   "cell_type": "code",
   "execution_count": 4,
   "metadata": {},
   "outputs": [],
   "source": [
    "import numpy as np"
   ]
  },
  {
   "cell_type": "code",
   "execution_count": 5,
   "metadata": {},
   "outputs": [],
   "source": [
    "class Node:\n",
    "    def __init__(self, data):\n",
    "        self.data = data\n",
    "        self.left = None    \n",
    "        self.right = None\n",
    "\n",
    "class BinaryTree:\n",
    "    def __init__(self):\n",
    "        \"\"\"\n",
    "        Construtor da classe, inicializa apenas uma raiz vazia\n",
    "        \"\"\"\n",
    "        self.root = None\n",
    "    \n",
    "    def insert(self, data):\n",
    "        \"\"\"\n",
    "        Funçao de inserção da classe, recebe um valor e insere na árvore\n",
    "        Um caso necessário a ser avaliado, é se a árvore é vazia (raiz nula),\n",
    "        caso seja, apenas criamos a raiz, caso não seja, chamamos \n",
    "        recursivamente na raiz uma outra função\n",
    "        \"\"\"\n",
    "        if self.root is None:\n",
    "            self.root = Node(data)\n",
    "            return True\n",
    "        \n",
    "        self._insert(self.root, data,)\n",
    "\n",
    "    def _insert(self, node, data):\n",
    "        \"\"\"\n",
    "        Função recursiva que realiza a inserção\n",
    "        Verifica se o nó atual é o valor a ser inserido, nesse caso, retornamos falso\n",
    "        pois o valor não foi inserido na árvore\n",
    "        Caso contrário, verificamos para que lados devemos \"ir\"\n",
    "        Se o dado for menor do que o dado no nó atual, então vamos para o lado esquerdo\n",
    "        Se o dado for maior do que o dado no nó atual, então vamos para o lado direito\n",
    "        \"\"\"\n",
    "        if node.data == data:\n",
    "            return False\n",
    "\n",
    "        if node.data > data:\n",
    "            # Antes de ir para o \"lado esquerdo\", precisamos primeiro verificar se ele existe\n",
    "            # Caso ele não exista, o nó deve ser posicionado nesse local\n",
    "            if node.left is None:\n",
    "                node.left = Node(data)\n",
    "                return True\n",
    "            return self._insert(node.left, data)\n",
    "        else:\n",
    "            # De forma similar com o tratado anteriormente\n",
    "            if node.right is None:\n",
    "                node.right = Node(data)\n",
    "                return True\n",
    "            return self._insert(node.right, data)\n",
    "\n",
    "    def inorder(self):\n",
    "        \"\"\"\n",
    "        Função que percorre a árvore seguindo o padrão \"inorder\", isto é, retorna\n",
    "        todos os nós em ordem crescente\n",
    "        Ela é uma função auxiliar que apenas chama a outra função recursiva\n",
    "        \"\"\"\n",
    "        if self.root is None:\n",
    "            return []\n",
    "        return self._inorder(self.root)\n",
    "\n",
    "    def _inorder(self, node):\n",
    "        \"\"\"\n",
    "        Nós vamos retornar uma lista com todos os nós da árvore em ordem crescente\n",
    "        Podemos utilizar a concatenação listas e a recurssão para executar isso\n",
    "        Primeiro adicionamos o nó da esquerda, seguido pelo nó atual e por último o nó da direita\n",
    "        \"\"\"\n",
    "        if node is None:\n",
    "            return []\n",
    "        return self._inorder(node.left) + [node.data] + self._inorder(node.right)\n",
    "        "
   ]
  },
  {
   "cell_type": "markdown",
   "metadata": {},
   "source": [
    "Observe que as funções implementadas, `insert` e `inorder` chamam outras funções com o próprio nome mas adicionando um novo parâmetro, `node`. Essa é uma maneira intuitiva de fazer funções em árvores, pois recursões facilitam percorrer a estrutura da árvore, em cada chamada da função estamos lidando com um nó específico.\n",
    "\n",
    "Vamos fazer alguns testes para verificar se está funcionando corretamente."
   ]
  },
  {
   "cell_type": "code",
   "execution_count": 7,
   "metadata": {},
   "outputs": [
    {
     "name": "stdout",
     "output_type": "stream",
     "text": [
      "[0, 1, 2, 3, 4, 5, 6, 7, 8, 9]\n",
      "[0.060766967904122726, 0.22569228288782817, 0.2606796340327765, 0.3278228524736915, 0.3862936369363874, 0.38937924898009835, 0.40035076885292153, 0.4165698259393237, 0.4492984650037777, 0.4679614094446104, 0.4864501771564973, 0.6062693895266819, 0.6532377211129761, 0.771577594297507, 0.826261442594834, 0.8334831240326088, 0.8377291867197478, 0.867328270873006, 0.9246598705527851, 0.9699071547421797]\n"
     ]
    }
   ],
   "source": [
    "T = BinaryTree()\n",
    "for i in range(10):\n",
    "    T.insert(i)\n",
    "\n",
    "print(T.inorder())\n",
    "\n",
    "T = BinaryTree()\n",
    "for i in range(20):\n",
    "    T.insert(np.random.random())\n",
    "print(T.inorder())\n",
    "\n",
    "    "
   ]
  },
  {
   "cell_type": "markdown",
   "metadata": {},
   "source": [
    "Uma outra maneira de construir árvores é criando apenas a classe `Node` que possuem todas as funções necessárias. Para criar uma nova árvore, criamos um nó vazio que representa a raiz. Observe esta nova implementaçao (bastante similar com a anterior):"
   ]
  },
  {
   "cell_type": "code",
   "execution_count": 8,
   "metadata": {},
   "outputs": [],
   "source": [
    "class Node:\n",
    "    def __init__(self, data):\n",
    "        self.data = data\n",
    "        self.left = None    \n",
    "        self.right = None\n",
    "\n",
    "    def inorder(self):\n",
    "        \"\"\"\n",
    "        Função inorder similar ao apresentado acima\n",
    "        \"\"\"\n",
    "        if self.left is None and self.right is None:\n",
    "            return [self.data]\n",
    "        if self.left is None:\n",
    "            return [self.data] + self.right.inorder()\n",
    "        if self.right is None:\n",
    "            return self.left.inorder() + [self.data]\n",
    "        return self.left.inorder() + [self.data] + self.right.inorder()\n",
    "\n",
    "    def insert(self, data):\n",
    "        \"\"\"\n",
    "        Função de inserção similar ao apresentado acima\n",
    "        \"\"\"\n",
    "        if self.data == data:\n",
    "            return False\n",
    "        if self.data > data:\n",
    "            if self.left is None:\n",
    "                self.left = Node(data)\n",
    "                return True\n",
    "            return self.left.insert(data)\n",
    "        else:\n",
    "            if self.right is None:\n",
    "                self.right = Node(data)\n",
    "                return True\n",
    "            return self.right.insert(data)        "
   ]
  },
  {
   "cell_type": "markdown",
   "metadata": {},
   "source": [
    "Note como nessa nova versão, não foi necessário que criemos as funções \"repetidas\", isso ocorre porque a primeira função chamada agora é realizada pelo \"usuário\". Vamos nós mesmos criar o root que representará a árvore."
   ]
  },
  {
   "cell_type": "code",
   "execution_count": 15,
   "metadata": {},
   "outputs": [
    {
     "name": "stdout",
     "output_type": "stream",
     "text": [
      "[10, 12, 14, 16, 18, 20, 22, 24, 26, 28]\n",
      "<__main__.Node object at 0x000001CC492BEEE0>\n",
      "[12, 14, 16, 18, 20, 22, 24, 26, 28]\n"
     ]
    }
   ],
   "source": [
    "root = Node(10)\n",
    "for i in range(10):\n",
    "    root.insert(10 + 2 * i)\n",
    "print(root.inorder())\n",
    "\n",
    "root_right = root.right\n",
    "# podemos acessar os nós que compoem a estrutura\n",
    "print(root_right)\n",
    "print(root_right.inorder())"
   ]
  }
 ],
 "metadata": {
  "kernelspec": {
   "display_name": "Python 3.9.7 ('base')",
   "language": "python",
   "name": "python3"
  },
  "language_info": {
   "codemirror_mode": {
    "name": "ipython",
    "version": 3
   },
   "file_extension": ".py",
   "mimetype": "text/x-python",
   "name": "python",
   "nbconvert_exporter": "python",
   "pygments_lexer": "ipython3",
   "version": "3.9.7"
  },
  "orig_nbformat": 4,
  "vscode": {
   "interpreter": {
    "hash": "44e9efe292fdfd1eb50d65e0fcc061cc8920b961459d4f054aea1216de4d86a0"
   }
  }
 },
 "nbformat": 4,
 "nbformat_minor": 2
}
