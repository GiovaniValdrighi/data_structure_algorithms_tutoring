{
 "cells": [
  {
   "cell_type": "markdown",
   "metadata": {},
   "source": [
    "# EDA - Aula prática 07/07\n",
    "\n",
    "Tópicos estudados:\n",
    "- Bubblesort\n",
    "- Select K"
   ]
  },
  {
   "cell_type": "code",
   "execution_count": 3,
   "metadata": {},
   "outputs": [],
   "source": [
    "import numpy as np\n",
    "from time import time\n",
    "import matplotlib.pyplot as plt"
   ]
  },
  {
   "cell_type": "markdown",
   "metadata": {},
   "source": [
    "## BubbleSort\n",
    "\n",
    "Código implementado baseado no pseudocódigo do homework 1."
   ]
  },
  {
   "cell_type": "code",
   "execution_count": 1,
   "metadata": {},
   "outputs": [],
   "source": [
    "def bubblesort(A):\n",
    "    for i in range(len(A)):\n",
    "        for j in range(len(A) - 1, i, -1):\n",
    "            if A[j] < A[j - 1]:\n",
    "                # Método para fazer \"exchange\" entre duas posições da lista\n",
    "                A[j], A[j - 1] = A[j - 1], A[j]\n",
    "    return A"
   ]
  },
  {
   "cell_type": "code",
   "execution_count": 5,
   "metadata": {},
   "outputs": [],
   "source": [
    "def is_sorted(A):\n",
    "    \"\"\"\n",
    "    Função que verifica se a lista está ordenada\n",
    "    sorted(A) retorna uma cópia ordenada de A\n",
    "    Essa função não altera a lista A    \n",
    "    \"\"\"\n",
    "    return A == sorted(A)"
   ]
  },
  {
   "cell_type": "code",
   "execution_count": 4,
   "metadata": {},
   "outputs": [],
   "source": [
    "# np.random é o pacote para gerar amostras aleatórias, calcular probabilidades\n",
    "# Vamos gerar uma lista de 20 elementos, com inteiros aleatórios de 0 a 10000\n",
    "# Vai retornar um np.array e vamos converter para list\n",
    "A = np.random.randint(0, 10000, size = 20).tolist()"
   ]
  },
  {
   "cell_type": "code",
   "execution_count": 6,
   "metadata": {},
   "outputs": [
    {
     "data": {
      "text/plain": [
       "True"
      ]
     },
     "execution_count": 6,
     "metadata": {},
     "output_type": "execute_result"
    }
   ],
   "source": [
    "is_sorted(bubblesort(A))"
   ]
  },
  {
   "cell_type": "markdown",
   "metadata": {},
   "source": [
    "Vamos verificar o tempo computacional desse algoritmo."
   ]
  },
  {
   "cell_type": "code",
   "execution_count": 8,
   "metadata": {},
   "outputs": [],
   "source": [
    "sizes = [100, 500, 1000, 5000, 10000]\n",
    "times = []\n",
    "for size in sizes:\n",
    "    A = np.random.randint(0, 1000000, size = size).tolist()\n",
    "    start = time()\n",
    "    bubblesort(A)\n",
    "    end = time()\n",
    "    times.append(end - start)"
   ]
  },
  {
   "cell_type": "code",
   "execution_count": 9,
   "metadata": {},
   "outputs": [
    {
     "data": {
      "image/png": "[encoded data removed]",
      "text/plain": [
       "<Figure size 432x288 with 1 Axes>"
      ]
     },
     "metadata": {
      "needs_background": "light"
     },
     "output_type": "display_data"
    }
   ],
   "source": [
    "plt.plot(sizes, times)\n",
    "plt.title(\"Tempo computacional do bubblesort\")\n",
    "plt.xlabel(\"Tamanho da lista\")\n",
    "plt.ylabel(\"Tempo (s)\")\n",
    "plt.show()"
   ]
  },
  {
   "cell_type": "markdown",
   "metadata": {},
   "source": [
    "## Select k\n",
    "\n",
    "Códigos baseados nos slides da L6 no Eclass.\n",
    "\n",
    "O algoritmo *select k* recebe uma lista A e um inteiro k e retorna o k-ésimo menor elemento em A."
   ]
  },
  {
   "cell_type": "code",
   "execution_count": 156,
   "metadata": {},
   "outputs": [],
   "source": [
    "def merge(arr, l, m, r):\n",
    "    n1 = m - l + 1\n",
    "    n2 = r - m\n",
    " \n",
    "    # create temp arrays\n",
    "    L = [0] * (n1)\n",
    "    R = [0] * (n2)\n",
    " \n",
    "    # Copy data to temp arrays L[] and R[]\n",
    "    for i in range(0, n1):\n",
    "        L[i] = arr[l + i]\n",
    " \n",
    "    for j in range(0, n2):\n",
    "        R[j] = arr[m + 1 + j]\n",
    " \n",
    "    # Merge the temp arrays back into arr[l..r]\n",
    "    i = 0     # Initial index of first subarray\n",
    "    j = 0     # Initial index of second subarray\n",
    "    k = l     # Initial index of merged subarray\n",
    " \n",
    "    while i < n1 and j < n2:\n",
    "        if L[i] <= R[j]:\n",
    "            arr[k] = L[i]\n",
    "            i += 1\n",
    "        else:\n",
    "            arr[k] = R[j]\n",
    "            j += 1\n",
    "        k += 1\n",
    " \n",
    "    # Copy the remaining elements of L[], if there\n",
    "    # are any\n",
    "    while i < n1:\n",
    "        arr[k] = L[i]\n",
    "        i += 1\n",
    "        k += 1\n",
    " \n",
    "    # Copy the remaining elements of R[], if there\n",
    "    # are any\n",
    "    while j < n2:\n",
    "        arr[k] = R[j]\n",
    "        j += 1\n",
    "        k += 1\n",
    " \n",
    "# l is for left index and r is right index of the\n",
    "# sub-array of arr to be sorted\n",
    " \n",
    " \n",
    "def mergesort(arr, l, r):\n",
    "    if l < r:\n",
    " \n",
    "        # Same as (l+r)//2, but avoids overflow for\n",
    "        # large l and h\n",
    "        m = l+(r-l)//2\n",
    " \n",
    "        # Sort first and second halves\n",
    "        mergesort(arr, l, m)\n",
    "        mergesort(arr, m+1, r)\n",
    "        merge(arr, l, m, r)\n",
    " "
   ]
  },
  {
   "cell_type": "code",
   "execution_count": 167,
   "metadata": {},
   "outputs": [],
   "source": [
    "def our_sort(A):\n",
    "    \"\"\"\n",
    "    A função select k vai utilizar um sort, podemos utilizar diferentes sorts.\n",
    "    Vamos deixar o sort padrão do Python por enquanto.\n",
    "    \"\"\"\n",
    "    #return bubblesort(A)\n",
    "    B = A.copy()\n",
    "    mergesort(B, 0, len(B) - 1)\n",
    "    return B\n",
    "    #return mergesort(A)\n",
    "    #return sorted(A)"
   ]
  },
  {
   "cell_type": "markdown",
   "metadata": {},
   "source": [
    "Uma maneira simples de obter o k-ésimo menor, é ordenar a lista inteira e retornar o elemento da posição k."
   ]
  },
  {
   "cell_type": "code",
   "execution_count": 168,
   "metadata": {},
   "outputs": [],
   "source": [
    "def select_k_naive(A, k):\n",
    "    return mergesort(A)[k]"
   ]
  },
  {
   "cell_type": "markdown",
   "metadata": {},
   "source": [
    "Uma outra maneira, é com o paradigma *Divide and conquer*, vamos dividir o problema em problemas menores. O problema inicial era obter o k-ésimo na lista A, e o problema \"menor\" será obter o k-ésimo em uma lista menor do que A.\n",
    "\n",
    "Para isso, iremos separar a lista em duas partes, e verificar em qual das partes o k-ésimo menor provavelmente está."
   ]
  },
  {
   "cell_type": "code",
   "execution_count": 169,
   "metadata": {},
   "outputs": [],
   "source": [
    "def partition(A, p):\n",
    "    \"\"\"\n",
    "    Função que recebe uma lista A e um índice p\n",
    "    Cria a lista L de elementos menores ou iguais a A[p]\n",
    "    Cria a lista R de elementos maiores que A[p]\n",
    "    \"\"\"\n",
    "    L, R = [], []\n",
    "    for i in range(len(A)):\n",
    "        if i == p:\n",
    "            continue\n",
    "        elif A[i] <= A[p]:\n",
    "            L.append(A[i])\n",
    "        else:\n",
    "            R.append(A[i])\n",
    "    \n",
    "    return L, A[p], R"
   ]
  },
  {
   "cell_type": "markdown",
   "metadata": {},
   "source": [
    "Separando a lista em posições aleatórias."
   ]
  },
  {
   "cell_type": "code",
   "execution_count": 170,
   "metadata": {},
   "outputs": [],
   "source": [
    "def random_choose_pivot(A):\n",
    "    \"\"\"\n",
    "    Recebe uma lista A e retorna um inteiro aleatório entre 0 e len(A) - 1 (incluindo)\n",
    "    \"\"\"\n",
    "    return np.random.randint(0, len(A)) "
   ]
  },
  {
   "cell_type": "code",
   "execution_count": 171,
   "metadata": {},
   "outputs": [],
   "source": [
    "def select_k_random(A, k):\n",
    "    \"\"\"\n",
    "    Separa a lista A em uma posição aleatória.\n",
    "    E verifica em quais dos dois \"lados\" o k-menor estará.\n",
    "    \"\"\"\n",
    "    if len(A) == 1:\n",
    "        return A[0]\n",
    "    \n",
    "    p = random_choose_pivot(A)\n",
    "    L, A_p, R = partition(A, p)\n",
    "\n",
    "    if len(L) == k:\n",
    "        return A_p\n",
    "    elif len(L) > k:\n",
    "        return select_k_random(L, k)\n",
    "    else:\n",
    "        return select_k_random(R, k - len(L) - 1)"
   ]
  },
  {
   "cell_type": "markdown",
   "metadata": {},
   "source": [
    "Uma maneira de melhorar isso é separando em uma posição que não seja aleatória, que seja praticamente no \"meio\" de A para ter a garantia de que o problema \"menor\" vai ser perto de metade do problema original.\n",
    "\n",
    "Essa maneira vai ser dividindo através da aproximação da mediana, a \"mediana das medianas\"."
   ]
  },
  {
   "cell_type": "code",
   "execution_count": 172,
   "metadata": {},
   "outputs": [],
   "source": [
    "def smartly_choose_pivot(A):\n",
    "    \"\"\"\n",
    "    Separa a lista A em listas menores de tamanho no máximo 5\n",
    "    E encontra a mediana dessa lista usando o select_k\n",
    "    Depois encontra a mediana das medianas\n",
    "    Por fim, A.index(A_p) retorna o índice do elemento A_p em A\n",
    "    \"\"\"\n",
    "    m = len(A) // 5\n",
    "    candidate_pivots = []\n",
    "    for i in range(m):\n",
    "        A_g = A[i*5 : (i+1) * 5]\n",
    "        p_i = select_k(A_g, 2)\n",
    "        candidate_pivots.append(p_i)\n",
    "    \n",
    "    if m * 5 < len(A):\n",
    "        A_g = A[m*5 :]\n",
    "        p_i = select_k(A_g, len(A_g)//2)\n",
    "        candidate_pivots.append(p_i)\n",
    "        \n",
    "    A_p = select_k(candidate_pivots, m//2)\n",
    "    return A.index(A_p)"
   ]
  },
  {
   "cell_type": "code",
   "execution_count": 173,
   "metadata": {},
   "outputs": [],
   "source": [
    "def select_k(A, k):\n",
    "    \"\"\"\n",
    "    Select k com a divisão eficiente.\n",
    "    \"\"\"\n",
    "    if len(A) < 100:\n",
    "        return select_k_naive(A, k)\n",
    "\n",
    "    p = smartly_choose_pivot(A)\n",
    "    L, A_p, R = partition(A, p)\n",
    "    if len(L) == k:\n",
    "        return A[p]\n",
    "    elif len(L) > k:\n",
    "        return select_k(L, k)\n",
    "    else:\n",
    "        return select_k(R, k - len(L) - 1)"
   ]
  },
  {
   "cell_type": "markdown",
   "metadata": {},
   "source": [
    "Comparação com as diferentes versões da select k:\n",
    "\n",
    "- *naive*: ordena e retorna o k-ésimo\n",
    "- *random*: separa de forma aleatória\n",
    "- *smart*: ordena de forma \"eficiente\""
   ]
  },
  {
   "cell_type": "code",
   "execution_count": 174,
   "metadata": {},
   "outputs": [],
   "source": [
    "def run_tests(n_tests = 5, size = 1000):\n",
    "    naive_times = []\n",
    "    random_times = []\n",
    "    smart_times = []\n",
    "    for k in range(n_tests):\n",
    "        A = np.random.randint(0, 100000, size = size).tolist()\n",
    "        k = int(np.random.randint(0, size))\n",
    "\n",
    "        start = time()\n",
    "        naive_solution = select_k_naive(A, k)\n",
    "        naive_times.append(time() - start)\n",
    "\n",
    "        start = time()\n",
    "        random_solution = select_k_random(A, k)\n",
    "        random_times.append(time() - start)\n",
    "        \n",
    "        start = time()\n",
    "        smart_solution = select_k(A, k)\n",
    "        smart_times.append(time() - start)\n",
    "        \n",
    "        # Verifica se as soluções são iguais\n",
    "        assert naive_solution == random_solution\n",
    "        assert naive_solution == smart_solution\n",
    "    \n",
    "    return np.mean(naive_times), np.mean(random_times), np.mean(smart_times)"
   ]
  },
  {
   "cell_type": "code",
   "execution_count": 175,
   "metadata": {},
   "outputs": [],
   "source": [
    "def plot_times(n_tests = 5, sizes = [100, 500, 1000, 5000, 10000, 50000, 100000]):\n",
    "    naive_times = []\n",
    "    random_times = []\n",
    "    smart_times = []\n",
    "    for size in sizes:\n",
    "        n, r, s = run_tests(n_tests, size)\n",
    "        naive_times.append(n)\n",
    "        random_times.append(r)\n",
    "        smart_times.append(s)\n",
    "\n",
    "    plt.plot(sizes, naive_times, label = 'naive')\n",
    "    plt.plot(sizes, random_times, label = 'random')\n",
    "    plt.plot(sizes, smart_times, label = 'smart')\n",
    "    plt.legend()\n",
    "    plt.show()"
   ]
  },
  {
   "cell_type": "code",
   "execution_count": 176,
   "metadata": {},
   "outputs": [
    {
     "data": {
      "image/png": "[encoded data removed]",
      "text/plain": [
       "<Figure size 432x288 with 1 Axes>"
      ]
     },
     "metadata": {
      "needs_background": "light"
     },
     "output_type": "display_data"
    }
   ],
   "source": [
    "plot_times()"
   ]
  },
  {
   "cell_type": "markdown",
   "metadata": {},
   "source": [
    "Ué, mas a versão que deveria ser melhor, foi mais lento, o que ocorreu?\n",
    "\n",
    "Aqui acontece que apesar do resultado teórico, as funções de `append`, `index`, recursões, acabam tornando o código menos eficiente do que apenas utilizar a função `sorted` que foi implementada e otimizada em C."
   ]
  },
  {
   "cell_type": "code",
   "execution_count": 126,
   "metadata": {},
   "outputs": [],
   "source": [
    "def partition_numpy(A, p):\n",
    "    A_p = A[p]\n",
    "    A_ = np.concatenate([A[:p], A[p+1:]])\n",
    "    return np.where(A_ <= A_p)[0], A_p, np.where(A_ > A_p)[0]    "
   ]
  },
  {
   "cell_type": "code",
   "execution_count": 127,
   "metadata": {},
   "outputs": [],
   "source": [
    "def smartly_choose_pivot_numpy(A):\n",
    "    m = len(A) // 5\n",
    "    if m * 5 < len(A):\n",
    "        candidate_pivots = np.zeros(m + 1)\n",
    "    else:\n",
    "        candidate_pivots = np.zeros(m)\n",
    "\n",
    "    for i in range(m):\n",
    "        candidate_pivots[i] = np.median(A[i*5 : (i+1) * 5])\n",
    "    \n",
    "    if m * 5 < len(A):\n",
    "        candidate_pivots[-1] = select_k_naive(A[m*5 :], (len(A) - m*5)//2)\n",
    "    \n",
    "    \n",
    "    A_p = select_k_naive(candidate_pivots, len(candidate_pivots)//2)\n",
    "    # Encontra o indice do \"bucket\" i que tá o pivo\n",
    "    i = np.where(candidate_pivots == A_p)[0][0]\n",
    "    return np.where(A[i*5: (i + 1 ) * 5] == A_p)[0][0]"
   ]
  },
  {
   "cell_type": "code",
   "execution_count": 128,
   "metadata": {},
   "outputs": [
    {
     "name": "stdout",
     "output_type": "stream",
     "text": [
      "5.64 µs ± 56.7 ns per loop (mean ± std. dev. of 7 runs, 100000 loops each)\n"
     ]
    }
   ],
   "source": [
    "%%timeit\n",
    "np.partition(A, k)[k]"
   ]
  },
  {
   "cell_type": "code",
   "execution_count": 129,
   "metadata": {},
   "outputs": [],
   "source": [
    "def select_k_while(A, k):\n",
    "    \"\"\"\n",
    "    Select k com a divisão eficiente.\n",
    "    \"\"\"\n",
    "    k_ = k\n",
    "    A_ = A\n",
    "    while len(A_) > 100:\n",
    "        p = smartly_choose_pivot_numpy(A_)\n",
    "        L, A_p, R = partition_numpy(A_, p)\n",
    "\n",
    "        if len(L) == k_:\n",
    "            return A_p\n",
    "        elif len(L) > k_:\n",
    "            A_ = L\n",
    "        else:\n",
    "            A_ = R\n",
    "            k_ = k_ - len(L) - 1\n",
    "    \n",
    "    return np.sort(A_)[k_]"
   ]
  },
  {
   "cell_type": "code",
   "execution_count": 130,
   "metadata": {},
   "outputs": [
    {
     "name": "stdout",
     "output_type": "stream",
     "text": [
      "984 µs ± 289 µs per loop (mean ± std. dev. of 7 runs, 1000 loops each)\n"
     ]
    }
   ],
   "source": [
    "%%timeit\n",
    "select_k(A_, k)"
   ]
  },
  {
   "cell_type": "code",
   "execution_count": 131,
   "metadata": {},
   "outputs": [
    {
     "name": "stdout",
     "output_type": "stream",
     "text": [
      "8.98 ms ± 2.22 ms per loop (mean ± std. dev. of 7 runs, 100 loops each)\n"
     ]
    }
   ],
   "source": [
    "%%timeit\n",
    "select_k_while(A, k)"
   ]
  },
  {
   "cell_type": "code",
   "execution_count": null,
   "metadata": {},
   "outputs": [],
   "source": []
  }
 ],
 "metadata": {
  "kernelspec": {
   "display_name": "Python 3.9.7 ('base')",
   "language": "python",
   "name": "python3"
  },
  "language_info": {
   "codemirror_mode": {
    "name": "ipython",
    "version": 3
   },
   "file_extension": ".py",
   "mimetype": "text/x-python",
   "name": "python",
   "nbconvert_exporter": "python",
   "pygments_lexer": "ipython3",
   "version": "3.9.7"
  },
  "orig_nbformat": 4,
  "vscode": {
   "interpreter": {
    "hash": "44e9efe292fdfd1eb50d65e0fcc061cc8920b961459d4f054aea1216de4d86a0"
   }
  }
 },
 "nbformat": 4,
 "nbformat_minor": 2
}
